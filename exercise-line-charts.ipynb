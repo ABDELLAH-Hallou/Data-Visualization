{
 "cells": [
  {
   "cell_type": "markdown",
   "id": "26ab32f4",
   "metadata": {
    "papermill": {
     "duration": 0.023202,
     "end_time": "2022-04-30T00:15:59.598379",
     "exception": false,
     "start_time": "2022-04-30T00:15:59.575177",
     "status": "completed"
    },
    "tags": []
   },
   "source": [
    "**This notebook is an exercise in the [Data Visualization](https://www.kaggle.com/learn/data-visualization) course.  You can reference the tutorial at [this link](https://www.kaggle.com/alexisbcook/line-charts).**\n",
    "\n",
    "---\n"
   ]
  },
  {
   "cell_type": "markdown",
   "id": "2e11f3db",
   "metadata": {
    "papermill": {
     "duration": 0.019942,
     "end_time": "2022-04-30T00:15:59.639332",
     "exception": false,
     "start_time": "2022-04-30T00:15:59.619390",
     "status": "completed"
    },
    "tags": []
   },
   "source": [
    "In this exercise, you will use your new knowledge to propose a solution to a real-world scenario. To succeed, you will need to import data into Python, answer questions using the data, and generate **line charts** to understand patterns in the data.\n",
    "\n",
    "## Scenario\n",
    "\n",
    "You have recently been hired to manage the museums in the City of Los Angeles. Your first project focuses on the four museums pictured in the images below.\n",
    "\n",
    "![ex1_museums](https://i.imgur.com/pFYL8J1.png)\n",
    "\n",
    "You will leverage data from the Los Angeles [Data Portal](https://data.lacity.org/) that tracks monthly visitors to each museum.  \n",
    "\n",
    "![ex1_xlsx](https://i.imgur.com/mGWYlym.png)\n",
    "\n",
    "## Setup\n",
    "\n",
    "Run the next cell to import and configure the Python libraries that you need to complete the exercise."
   ]
  },
  {
   "cell_type": "code",
   "execution_count": 1,
   "id": "1ac19092",
   "metadata": {
    "execution": {
     "iopub.execute_input": "2022-04-30T00:15:59.681787Z",
     "iopub.status.busy": "2022-04-30T00:15:59.681131Z",
     "iopub.status.idle": "2022-04-30T00:16:00.903766Z",
     "shell.execute_reply": "2022-04-30T00:16:00.902861Z"
    },
    "papermill": {
     "duration": 1.248286,
     "end_time": "2022-04-30T00:16:00.907683",
     "exception": false,
     "start_time": "2022-04-30T00:15:59.659397",
     "status": "completed"
    },
    "tags": []
   },
   "outputs": [
    {
     "name": "stdout",
     "output_type": "stream",
     "text": [
      "Setup Complete\n"
     ]
    }
   ],
   "source": [
    "import pandas as pd\n",
    "pd.plotting.register_matplotlib_converters()\n",
    "import matplotlib.pyplot as plt\n",
    "%matplotlib inline\n",
    "import seaborn as sns\n",
    "print(\"Setup Complete\")"
   ]
  },
  {
   "cell_type": "markdown",
   "id": "00f23d72",
   "metadata": {
    "papermill": {
     "duration": 0.020189,
     "end_time": "2022-04-30T00:16:00.949644",
     "exception": false,
     "start_time": "2022-04-30T00:16:00.929455",
     "status": "completed"
    },
    "tags": []
   },
   "source": [
    "The questions below will give you feedback on your work. Run the following cell to set up the feedback system."
   ]
  },
  {
   "cell_type": "code",
   "execution_count": 2,
   "id": "0422a50f",
   "metadata": {
    "execution": {
     "iopub.execute_input": "2022-04-30T00:16:01.002126Z",
     "iopub.status.busy": "2022-04-30T00:16:01.001826Z",
     "iopub.status.idle": "2022-04-30T00:16:01.064382Z",
     "shell.execute_reply": "2022-04-30T00:16:01.063816Z"
    },
    "papermill": {
     "duration": 0.093736,
     "end_time": "2022-04-30T00:16:01.069104",
     "exception": false,
     "start_time": "2022-04-30T00:16:00.975368",
     "status": "completed"
    },
    "tags": []
   },
   "outputs": [
    {
     "name": "stdout",
     "output_type": "stream",
     "text": [
      "Setup Complete\n"
     ]
    }
   ],
   "source": [
    "# Set up code checking\n",
    "import os\n",
    "if not os.path.exists(\"../input/museum_visitors.csv\"):\n",
    "    os.symlink(\"../input/data-for-datavis/museum_visitors.csv\", \"../input/museum_visitors.csv\") \n",
    "from learntools.core import binder\n",
    "binder.bind(globals())\n",
    "from learntools.data_viz_to_coder.ex2 import *\n",
    "print(\"Setup Complete\")"
   ]
  },
  {
   "cell_type": "markdown",
   "id": "a0395cf5",
   "metadata": {
    "papermill": {
     "duration": 0.020789,
     "end_time": "2022-04-30T00:16:01.113071",
     "exception": false,
     "start_time": "2022-04-30T00:16:01.092282",
     "status": "completed"
    },
    "tags": []
   },
   "source": [
    "## Step 1: Load the data\n",
    "\n",
    "Your first assignment is to read the LA Museum Visitors data file into `museum_data`.  Note that:\n",
    "- The filepath to the dataset is stored as `museum_filepath`.  Please **do not** change the provided value of the filepath.\n",
    "- The name of the column to use as row labels is `\"Date\"`.  (This can be seen in cell A1 when the file is opened in Excel.)\n",
    "\n",
    "To help with this, you may find it useful to revisit some relevant code from the tutorial, which we have pasted below:\n",
    "\n",
    "```python\n",
    "# Path of the file to read\n",
    "spotify_filepath = \"../input/spotify.csv\"\n",
    "\n",
    "# Read the file into a variable spotify_data\n",
    "spotify_data = pd.read_csv(spotify_filepath, index_col=\"Date\", parse_dates=True)\n",
    "```\n",
    "\n",
    "The code you need to write now looks very similar!"
   ]
  },
  {
   "cell_type": "code",
   "execution_count": 3,
   "id": "32600562",
   "metadata": {
    "execution": {
     "iopub.execute_input": "2022-04-30T00:16:01.157426Z",
     "iopub.status.busy": "2022-04-30T00:16:01.156846Z",
     "iopub.status.idle": "2022-04-30T00:16:01.173311Z",
     "shell.execute_reply": "2022-04-30T00:16:01.172476Z"
    },
    "papermill": {
     "duration": 0.041042,
     "end_time": "2022-04-30T00:16:01.175305",
     "exception": false,
     "start_time": "2022-04-30T00:16:01.134263",
     "status": "completed"
    },
    "tags": []
   },
   "outputs": [
    {
     "data": {
      "application/javascript": [
       "parent.postMessage({\"jupyterEvent\": \"custom.exercise_interaction\", \"data\": {\"outcomeType\": 1, \"valueTowardsCompletion\": 0.3333333333333333, \"interactionType\": 1, \"questionType\": 1, \"questionId\": \"1_LoadMuseumData\", \"learnToolsVersion\": \"0.3.4\", \"failureMessage\": \"\", \"exceptionClass\": \"\", \"trace\": \"\"}}, \"*\")"
      ],
      "text/plain": [
       "<IPython.core.display.Javascript object>"
      ]
     },
     "metadata": {},
     "output_type": "display_data"
    },
    {
     "data": {
      "text/markdown": [
       "<span style=\"color:#33cc33\">Correct</span>"
      ],
      "text/plain": [
       "Correct"
      ]
     },
     "metadata": {},
     "output_type": "display_data"
    }
   ],
   "source": [
    "# Path of the file to read\n",
    "museum_filepath = \"../input/museum_visitors.csv\"\n",
    "\n",
    "# Fill in the line below to read the file into a variable museum_data\n",
    "museum_data = pd.read_csv(museum_filepath, index_col=\"Date\", parse_dates=True)\n",
    "# Run the line below with no changes to check that you've loaded the data correctly\n",
    "step_1.check()"
   ]
  },
  {
   "cell_type": "code",
   "execution_count": 4,
   "id": "1ee38ab1",
   "metadata": {
    "execution": {
     "iopub.execute_input": "2022-04-30T00:16:01.221687Z",
     "iopub.status.busy": "2022-04-30T00:16:01.221359Z",
     "iopub.status.idle": "2022-04-30T00:16:01.224620Z",
     "shell.execute_reply": "2022-04-30T00:16:01.223994Z"
    },
    "papermill": {
     "duration": 0.028843,
     "end_time": "2022-04-30T00:16:01.226490",
     "exception": false,
     "start_time": "2022-04-30T00:16:01.197647",
     "status": "completed"
    },
    "tags": []
   },
   "outputs": [],
   "source": [
    "# Uncomment the line below to receive a hint\n",
    "#step_1.hint()\n",
    "# Uncomment the line below to see the solution\n",
    "#step_1.solution()"
   ]
  },
  {
   "cell_type": "markdown",
   "id": "51c2a933",
   "metadata": {
    "papermill": {
     "duration": 0.021778,
     "end_time": "2022-04-30T00:16:01.270552",
     "exception": false,
     "start_time": "2022-04-30T00:16:01.248774",
     "status": "completed"
    },
    "tags": []
   },
   "source": [
    "## Step 2: Review the data\n",
    "\n",
    "Use a Python command to print the last 5 rows of the data."
   ]
  },
  {
   "cell_type": "code",
   "execution_count": 5,
   "id": "68b9f373",
   "metadata": {
    "execution": {
     "iopub.execute_input": "2022-04-30T00:16:01.318880Z",
     "iopub.status.busy": "2022-04-30T00:16:01.318534Z",
     "iopub.status.idle": "2022-04-30T00:16:01.332491Z",
     "shell.execute_reply": "2022-04-30T00:16:01.331889Z"
    },
    "papermill": {
     "duration": 0.039705,
     "end_time": "2022-04-30T00:16:01.334455",
     "exception": false,
     "start_time": "2022-04-30T00:16:01.294750",
     "status": "completed"
    },
    "tags": []
   },
   "outputs": [
    {
     "data": {
      "text/html": [
       "<div>\n",
       "<style scoped>\n",
       "    .dataframe tbody tr th:only-of-type {\n",
       "        vertical-align: middle;\n",
       "    }\n",
       "\n",
       "    .dataframe tbody tr th {\n",
       "        vertical-align: top;\n",
       "    }\n",
       "\n",
       "    .dataframe thead th {\n",
       "        text-align: right;\n",
       "    }\n",
       "</style>\n",
       "<table border=\"1\" class=\"dataframe\">\n",
       "  <thead>\n",
       "    <tr style=\"text-align: right;\">\n",
       "      <th></th>\n",
       "      <th>Avila Adobe</th>\n",
       "      <th>Firehouse Museum</th>\n",
       "      <th>Chinese American Museum</th>\n",
       "      <th>America Tropical Interpretive Center</th>\n",
       "    </tr>\n",
       "    <tr>\n",
       "      <th>Date</th>\n",
       "      <th></th>\n",
       "      <th></th>\n",
       "      <th></th>\n",
       "      <th></th>\n",
       "    </tr>\n",
       "  </thead>\n",
       "  <tbody>\n",
       "    <tr>\n",
       "      <th>2018-07-01</th>\n",
       "      <td>23136</td>\n",
       "      <td>4191</td>\n",
       "      <td>2620</td>\n",
       "      <td>4718</td>\n",
       "    </tr>\n",
       "    <tr>\n",
       "      <th>2018-08-01</th>\n",
       "      <td>20815</td>\n",
       "      <td>4866</td>\n",
       "      <td>2409</td>\n",
       "      <td>3891</td>\n",
       "    </tr>\n",
       "    <tr>\n",
       "      <th>2018-09-01</th>\n",
       "      <td>21020</td>\n",
       "      <td>4956</td>\n",
       "      <td>2146</td>\n",
       "      <td>3180</td>\n",
       "    </tr>\n",
       "    <tr>\n",
       "      <th>2018-10-01</th>\n",
       "      <td>19280</td>\n",
       "      <td>4622</td>\n",
       "      <td>2364</td>\n",
       "      <td>3775</td>\n",
       "    </tr>\n",
       "    <tr>\n",
       "      <th>2018-11-01</th>\n",
       "      <td>17163</td>\n",
       "      <td>4082</td>\n",
       "      <td>2385</td>\n",
       "      <td>4562</td>\n",
       "    </tr>\n",
       "  </tbody>\n",
       "</table>\n",
       "</div>"
      ],
      "text/plain": [
       "            Avila Adobe  Firehouse Museum  Chinese American Museum  \\\n",
       "Date                                                                 \n",
       "2018-07-01        23136              4191                     2620   \n",
       "2018-08-01        20815              4866                     2409   \n",
       "2018-09-01        21020              4956                     2146   \n",
       "2018-10-01        19280              4622                     2364   \n",
       "2018-11-01        17163              4082                     2385   \n",
       "\n",
       "            America Tropical Interpretive Center  \n",
       "Date                                              \n",
       "2018-07-01                                  4718  \n",
       "2018-08-01                                  3891  \n",
       "2018-09-01                                  3180  \n",
       "2018-10-01                                  3775  \n",
       "2018-11-01                                  4562  "
      ]
     },
     "execution_count": 5,
     "metadata": {},
     "output_type": "execute_result"
    }
   ],
   "source": [
    "# Print the last five rows of the data \n",
    "museum_data.tail() # Your code here"
   ]
  },
  {
   "cell_type": "markdown",
   "id": "68f256b3",
   "metadata": {
    "papermill": {
     "duration": 0.022723,
     "end_time": "2022-04-30T00:16:01.380290",
     "exception": false,
     "start_time": "2022-04-30T00:16:01.357567",
     "status": "completed"
    },
    "tags": []
   },
   "source": [
    "The last row (for `2018-11-01`) tracks the number of visitors to each museum in November 2018, the next-to-last row (for `2018-10-01`) tracks the number of visitors to each museum in October 2018, _and so on_.\n",
    "\n",
    "Use the last 5 rows of the data to answer the questions below."
   ]
  },
  {
   "cell_type": "code",
   "execution_count": 6,
   "id": "354545c9",
   "metadata": {
    "execution": {
     "iopub.execute_input": "2022-04-30T00:16:01.428699Z",
     "iopub.status.busy": "2022-04-30T00:16:01.427662Z",
     "iopub.status.idle": "2022-04-30T00:16:01.436632Z",
     "shell.execute_reply": "2022-04-30T00:16:01.435854Z"
    },
    "papermill": {
     "duration": 0.03607,
     "end_time": "2022-04-30T00:16:01.439360",
     "exception": false,
     "start_time": "2022-04-30T00:16:01.403290",
     "status": "completed"
    },
    "tags": []
   },
   "outputs": [
    {
     "data": {
      "application/javascript": [
       "parent.postMessage({\"jupyterEvent\": \"custom.exercise_interaction\", \"data\": {\"outcomeType\": 1, \"valueTowardsCompletion\": 0.3333333333333333, \"interactionType\": 1, \"questionType\": 1, \"questionId\": \"2_ReviewData\", \"learnToolsVersion\": \"0.3.4\", \"failureMessage\": \"\", \"exceptionClass\": \"\", \"trace\": \"\"}}, \"*\")"
      ],
      "text/plain": [
       "<IPython.core.display.Javascript object>"
      ]
     },
     "metadata": {},
     "output_type": "display_data"
    },
    {
     "data": {
      "text/markdown": [
       "<span style=\"color:#33cc33\">Correct</span>"
      ],
      "text/plain": [
       "Correct"
      ]
     },
     "metadata": {},
     "output_type": "display_data"
    }
   ],
   "source": [
    "# Fill in the line below: How many visitors did the Chinese American Museum \n",
    "# receive in July 2018?\n",
    "ca_museum_jul18 = 2620\n",
    "\n",
    "# Fill in the line below: In October 2018, how many more visitors did Avila \n",
    "# Adobe receive than the Firehouse Museum?\n",
    "avila_oct18 = 19280-4622\n",
    "\n",
    "# Check your answers\n",
    "step_2.check()"
   ]
  },
  {
   "cell_type": "code",
   "execution_count": 7,
   "id": "e43443cd",
   "metadata": {
    "execution": {
     "iopub.execute_input": "2022-04-30T00:16:01.489830Z",
     "iopub.status.busy": "2022-04-30T00:16:01.489226Z",
     "iopub.status.idle": "2022-04-30T00:16:01.492988Z",
     "shell.execute_reply": "2022-04-30T00:16:01.492289Z"
    },
    "papermill": {
     "duration": 0.031354,
     "end_time": "2022-04-30T00:16:01.494987",
     "exception": false,
     "start_time": "2022-04-30T00:16:01.463633",
     "status": "completed"
    },
    "tags": []
   },
   "outputs": [],
   "source": [
    "# Lines below will give you a hint or solution code\n",
    "#step_2.hint()\n",
    "# step_2.solution()"
   ]
  },
  {
   "cell_type": "markdown",
   "id": "cb169b58",
   "metadata": {
    "papermill": {
     "duration": 0.023783,
     "end_time": "2022-04-30T00:16:01.542407",
     "exception": false,
     "start_time": "2022-04-30T00:16:01.518624",
     "status": "completed"
    },
    "tags": []
   },
   "source": [
    "## Step 3: Convince the museum board \n",
    "\n",
    "The Firehouse Museum claims they ran an event in 2014 that brought an incredible number of visitors, and that they should get extra budget to run a similar event again.  The other museums think these types of events aren't that important, and budgets should be split purely based on recent visitors on an average day.  \n",
    "\n",
    "To show the museum board how the event compared to regular traffic at each museum, create a line chart that shows how the number of visitors to each museum evolved over time.  Your figure should have four lines (one for each museum).\n",
    "\n",
    "> **(Optional) Note**: If you have some prior experience with plotting figures in Python, you might be familiar with the `plt.show()` command.  If you decide to use this command, please place it **after** the line of code that checks your answer (in this case, place it after `step_3.check()` below) -- otherwise, the checking code will return an error!"
   ]
  },
  {
   "cell_type": "code",
   "execution_count": 8,
   "id": "0fc08d02",
   "metadata": {
    "execution": {
     "iopub.execute_input": "2022-04-30T00:16:01.591872Z",
     "iopub.status.busy": "2022-04-30T00:16:01.591298Z",
     "iopub.status.idle": "2022-04-30T00:16:02.061456Z",
     "shell.execute_reply": "2022-04-30T00:16:02.060351Z"
    },
    "papermill": {
     "duration": 0.497661,
     "end_time": "2022-04-30T00:16:02.063820",
     "exception": false,
     "start_time": "2022-04-30T00:16:01.566159",
     "status": "completed"
    },
    "tags": []
   },
   "outputs": [
    {
     "data": {
      "application/javascript": [
       "parent.postMessage({\"jupyterEvent\": \"custom.exercise_interaction\", \"data\": {\"outcomeType\": 1, \"valueTowardsCompletion\": 0.3333333333333333, \"interactionType\": 1, \"questionType\": 2, \"questionId\": \"3_PlotAll\", \"learnToolsVersion\": \"0.3.4\", \"failureMessage\": \"\", \"exceptionClass\": \"\", \"trace\": \"\"}}, \"*\")"
      ],
      "text/plain": [
       "<IPython.core.display.Javascript object>"
      ]
     },
     "metadata": {},
     "output_type": "display_data"
    },
    {
     "data": {
      "text/markdown": [
       "<span style=\"color:#33cc33\">Correct</span>"
      ],
      "text/plain": [
       "Correct"
      ]
     },
     "metadata": {},
     "output_type": "display_data"
    },
    {
     "data": {
      "image/png": "[encoded data removed]",
      "text/plain": [
       "<Figure size 1008x432 with 1 Axes>"
      ]
     },
     "metadata": {
      "needs_background": "light"
     },
     "output_type": "display_data"
    }
   ],
   "source": [
    "# Line chart showing the number of visitors to each museum over time\n",
    "plt.figure(figsize=(14,6))\n",
    "plt.title('the number of visitors to each museum over time')\n",
    "sns.lineplot(data=museum_data)\n",
    " # Your code here\n",
    "\n",
    "# Check your answer\n",
    "step_3.check()"
   ]
  },
  {
   "cell_type": "code",
   "execution_count": 9,
   "id": "c959ddb9",
   "metadata": {
    "execution": {
     "iopub.execute_input": "2022-04-30T00:16:02.121935Z",
     "iopub.status.busy": "2022-04-30T00:16:02.120920Z",
     "iopub.status.idle": "2022-04-30T00:16:02.125277Z",
     "shell.execute_reply": "2022-04-30T00:16:02.124643Z"
    },
    "papermill": {
     "duration": 0.03574,
     "end_time": "2022-04-30T00:16:02.127296",
     "exception": false,
     "start_time": "2022-04-30T00:16:02.091556",
     "status": "completed"
    },
    "tags": []
   },
   "outputs": [],
   "source": [
    "# Lines below will give you a hint or solution code\n",
    "#step_3.hint()\n",
    "#step_3.solution_plot()"
   ]
  },
  {
   "cell_type": "markdown",
   "id": "583e71cd",
   "metadata": {
    "papermill": {
     "duration": 0.027617,
     "end_time": "2022-04-30T00:16:02.182774",
     "exception": false,
     "start_time": "2022-04-30T00:16:02.155157",
     "status": "completed"
    },
    "tags": []
   },
   "source": [
    "## Step 4: Assess seasonality\n",
    "\n",
    "When meeting with the employees at Avila Adobe, you hear that one major pain point is that the number of museum visitors varies greatly with the seasons, with low seasons (when the employees are perfectly staffed and happy) and also high seasons (when the employees are understaffed and stressed).  You realize that if you can predict these high and low seasons, you can plan ahead to hire some additional seasonal employees to help out with the extra work.\n",
    "\n",
    "#### Part A\n",
    "Create a line chart that shows how the number of visitors to Avila Adobe has evolved over time.  (_If your code returns an error, the first thing that you should check is that you've spelled the name of the column correctly!  You must write the name of the column exactly as it appears in the dataset._)"
   ]
  },
  {
   "cell_type": "code",
   "execution_count": 10,
   "id": "4729df12",
   "metadata": {
    "execution": {
     "iopub.execute_input": "2022-04-30T00:16:02.240595Z",
     "iopub.status.busy": "2022-04-30T00:16:02.239997Z",
     "iopub.status.idle": "2022-04-30T00:16:02.557046Z",
     "shell.execute_reply": "2022-04-30T00:16:02.556127Z"
    },
    "papermill": {
     "duration": 0.348988,
     "end_time": "2022-04-30T00:16:02.559666",
     "exception": false,
     "start_time": "2022-04-30T00:16:02.210678",
     "status": "completed"
    },
    "tags": []
   },
   "outputs": [
    {
     "name": "stdout",
     "output_type": "stream",
     "text": [
      "Thank you for creating a line chart!  To see how your code compares to the official solution, please use the code cell below.\n"
     ]
    },
    {
     "data": {
      "application/javascript": [
       "parent.postMessage({\"jupyterEvent\": \"custom.exercise_interaction\", \"data\": {\"outcomeType\": 1, \"valueTowardsCompletion\": 0.3333333333333333, \"interactionType\": 1, \"questionType\": 2, \"questionId\": \"4.1_PlotAvila\", \"learnToolsVersion\": \"0.3.4\", \"failureMessage\": \"\", \"exceptionClass\": \"\", \"trace\": \"\"}}, \"*\")"
      ],
      "text/plain": [
       "<IPython.core.display.Javascript object>"
      ]
     },
     "metadata": {},
     "output_type": "display_data"
    },
    {
     "data": {
      "text/markdown": [
       "<span style=\"color:#33cc33\">Correct</span>"
      ],
      "text/plain": [
       "Correct"
      ]
     },
     "metadata": {},
     "output_type": "display_data"
    },
    {
     "data": {
      "image/png": "[encoded data removed]",
      "text/plain": [
       "<Figure size 1008x432 with 1 Axes>"
      ]
     },
     "metadata": {
      "needs_background": "light"
     },
     "output_type": "display_data"
    }
   ],
   "source": [
    "# Line plot showing the number of visitors to Avila Adobe over time\n",
    "plt.figure(figsize=(14,6))\n",
    "plt.title('the number of visitors to Avila Adobe over time')\n",
    "sns.lineplot(data=museum_data['Avila Adobe'], label='Avila Adobe')\n",
    "# Your code here\n",
    "\n",
    "# Check your answer\n",
    "step_4.a.check()"
   ]
  },
  {
   "cell_type": "code",
   "execution_count": 11,
   "id": "bb027952",
   "metadata": {
    "execution": {
     "iopub.execute_input": "2022-04-30T00:16:02.625041Z",
     "iopub.status.busy": "2022-04-30T00:16:02.624744Z",
     "iopub.status.idle": "2022-04-30T00:16:02.628563Z",
     "shell.execute_reply": "2022-04-30T00:16:02.627654Z"
    },
    "papermill": {
     "duration": 0.038883,
     "end_time": "2022-04-30T00:16:02.630556",
     "exception": false,
     "start_time": "2022-04-30T00:16:02.591673",
     "status": "completed"
    },
    "tags": []
   },
   "outputs": [],
   "source": [
    "# Lines below will give you a hint or solution code\n",
    "#step_4.a.hint()\n",
    "#step_4.a.solution_plot()"
   ]
  },
  {
   "cell_type": "markdown",
   "id": "5d1ac12a",
   "metadata": {
    "papermill": {
     "duration": 0.030996,
     "end_time": "2022-04-30T00:16:02.692941",
     "exception": false,
     "start_time": "2022-04-30T00:16:02.661945",
     "status": "completed"
    },
    "tags": []
   },
   "source": [
    "#### Part B\n",
    "\n",
    "Does Avila Adobe get more visitors:\n",
    "- in September-February (in LA, the fall and winter months), or \n",
    "- in March-August (in LA, the spring and summer)?  \n",
    "\n",
    "Using this information, when should the museum staff additional seasonal employees?"
   ]
  },
  {
   "cell_type": "code",
   "execution_count": 12,
   "id": "efd6585a",
   "metadata": {
    "execution": {
     "iopub.execute_input": "2022-04-30T00:16:02.757990Z",
     "iopub.status.busy": "2022-04-30T00:16:02.757672Z",
     "iopub.status.idle": "2022-04-30T00:16:02.761876Z",
     "shell.execute_reply": "2022-04-30T00:16:02.760964Z"
    },
    "papermill": {
     "duration": 0.039605,
     "end_time": "2022-04-30T00:16:02.763980",
     "exception": false,
     "start_time": "2022-04-30T00:16:02.724375",
     "status": "completed"
    },
    "tags": []
   },
   "outputs": [],
   "source": [
    "#step_4.b.hint()"
   ]
  },
  {
   "cell_type": "code",
   "execution_count": 13,
   "id": "8ae218e4",
   "metadata": {
    "execution": {
     "iopub.execute_input": "2022-04-30T00:16:02.828566Z",
     "iopub.status.busy": "2022-04-30T00:16:02.828285Z",
     "iopub.status.idle": "2022-04-30T00:16:02.836215Z",
     "shell.execute_reply": "2022-04-30T00:16:02.835306Z"
    },
    "papermill": {
     "duration": 0.04285,
     "end_time": "2022-04-30T00:16:02.838261",
     "exception": false,
     "start_time": "2022-04-30T00:16:02.795411",
     "status": "completed"
    },
    "tags": []
   },
   "outputs": [
    {
     "data": {
      "application/javascript": [
       "parent.postMessage({\"jupyterEvent\": \"custom.exercise_interaction\", \"data\": {\"interactionType\": 3, \"questionType\": 4, \"questionId\": \"4.2_ThinkAvila\", \"learnToolsVersion\": \"0.3.4\", \"valueTowardsCompletion\": 0.0, \"failureMessage\": \"\", \"exceptionClass\": \"\", \"trace\": \"\", \"outcomeType\": 4}}, \"*\")"
      ],
      "text/plain": [
       "<IPython.core.display.Javascript object>"
      ]
     },
     "metadata": {},
     "output_type": "display_data"
    },
    {
     "data": {
      "text/markdown": [
       "<span style=\"color:#33cc99\">Solution:</span> The line chart generally dips to relatively low values around the early part of each year (in December and January), and reaches its highest values in the middle of the year (especially around May and June).  Thus, Avila Adobe usually gets more visitors in March-August (or the spring and summer months).  With this in mind, Avila Adobe could definitely benefit from hiring more seasonal employees to help with the extra work in March-August (the spring and summer)!"
      ],
      "text/plain": [
       "Solution: The line chart generally dips to relatively low values around the early part of each year (in December and January), and reaches its highest values in the middle of the year (especially around May and June).  Thus, Avila Adobe usually gets more visitors in March-August (or the spring and summer months).  With this in mind, Avila Adobe could definitely benefit from hiring more seasonal employees to help with the extra work in March-August (the spring and summer)!"
      ]
     },
     "metadata": {},
     "output_type": "display_data"
    }
   ],
   "source": [
    "# Check your answer (Run this code cell to receive credit!)\n",
    "step_4.b.solution()"
   ]
  },
  {
   "cell_type": "markdown",
   "id": "5e35b525",
   "metadata": {
    "papermill": {
     "duration": 0.033193,
     "end_time": "2022-04-30T00:16:02.904047",
     "exception": false,
     "start_time": "2022-04-30T00:16:02.870854",
     "status": "completed"
    },
    "tags": []
   },
   "source": [
    "# Keep going\n",
    "\n",
    "Move on to learn about **[bar charts and heatmaps](https://www.kaggle.com/alexisbcook/bar-charts-and-heatmaps)** with a new dataset!"
   ]
  },
  {
   "cell_type": "markdown",
   "id": "bb9fb3d6",
   "metadata": {
    "papermill": {
     "duration": 0.032438,
     "end_time": "2022-04-30T00:16:02.969539",
     "exception": false,
     "start_time": "2022-04-30T00:16:02.937101",
     "status": "completed"
    },
    "tags": []
   },
   "source": [
    "---\n",
    "\n",
    "\n",
    "\n",
    "\n",
    "*Have questions or comments? Visit the [course discussion forum](https://www.kaggle.com/learn/data-visualization/discussion) to chat with other learners.*"
   ]
  }
 ],
 "metadata": {
  "kernelspec": {
   "display_name": "Python 3",
   "language": "python",
   "name": "python3"
  },
  "language_info": {
   "codemirror_mode": {
    "name": "ipython",
    "version": 3
   },
   "file_extension": ".py",
   "mimetype": "text/x-python",
   "name": "python",
   "nbconvert_exporter": "python",
   "pygments_lexer": "ipython3",
   "version": "3.7.12"
  },
  "papermill": {
   "default_parameters": {},
   "duration": 14.897791,
   "end_time": "2022-04-30T00:16:03.723353",
   "environment_variables": {},
   "exception": null,
   "input_path": "__notebook__.ipynb",
   "output_path": "__notebook__.ipynb",
   "parameters": {},
   "start_time": "2022-04-30T00:15:48.825562",
   "version": "2.3.4"
  }
 },
 "nbformat": 4,
 "nbformat_minor": 5
}

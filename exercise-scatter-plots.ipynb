{
 "cells": [
  {
   "cell_type": "markdown",
   "id": "0350370e",
   "metadata": {
    "papermill": {
     "duration": 0.035409,
     "end_time": "2022-04-30T18:00:31.578856",
     "exception": false,
     "start_time": "2022-04-30T18:00:31.543447",
     "status": "completed"
    },
    "tags": []
   },
   "source": [
    "**This notebook is an exercise in the [Data Visualization](https://www.kaggle.com/learn/data-visualization) course.  You can reference the tutorial at [this link](https://www.kaggle.com/alexisbcook/scatter-plots).**\n",
    "\n",
    "---\n"
   ]
  },
  {
   "cell_type": "markdown",
   "id": "6fcd177d",
   "metadata": {
    "papermill": {
     "duration": 0.034082,
     "end_time": "2022-04-30T18:00:31.649677",
     "exception": false,
     "start_time": "2022-04-30T18:00:31.615595",
     "status": "completed"
    },
    "tags": []
   },
   "source": [
    "In this exercise, you will use your new knowledge to propose a solution to a real-world scenario.  To succeed, you will need to import data into Python, answer questions using the data, and generate **scatter plots** to understand patterns in the data.\n",
    "\n",
    "## Scenario\n",
    "\n",
    "You work for a major candy producer, and your goal is to write a report that your company can use to guide the design of its next product.  Soon after starting your research, you stumble across this [very interesting dataset](https://fivethirtyeight.com/features/the-ultimate-halloween-candy-power-ranking/) containing results from a fun survey to crowdsource favorite candies.\n",
    "\n",
    "## Setup\n",
    "\n",
    "Run the next cell to import and configure the Python libraries that you need to complete the exercise."
   ]
  },
  {
   "cell_type": "code",
   "execution_count": 1,
   "id": "097609cd",
   "metadata": {
    "execution": {
     "iopub.execute_input": "2022-04-30T18:00:31.723304Z",
     "iopub.status.busy": "2022-04-30T18:00:31.722667Z",
     "iopub.status.idle": "2022-04-30T18:00:32.917823Z",
     "shell.execute_reply": "2022-04-30T18:00:32.916864Z"
    },
    "papermill": {
     "duration": 1.234495,
     "end_time": "2022-04-30T18:00:32.920445",
     "exception": false,
     "start_time": "2022-04-30T18:00:31.685950",
     "status": "completed"
    },
    "tags": []
   },
   "outputs": [
    {
     "name": "stdout",
     "output_type": "stream",
     "text": [
      "Setup Complete\n"
     ]
    }
   ],
   "source": [
    "import pandas as pd\n",
    "pd.plotting.register_matplotlib_converters()\n",
    "import matplotlib.pyplot as plt\n",
    "%matplotlib inline\n",
    "import seaborn as sns\n",
    "print(\"Setup Complete\")"
   ]
  },
  {
   "cell_type": "markdown",
   "id": "58bdcd8f",
   "metadata": {
    "papermill": {
     "duration": 0.035908,
     "end_time": "2022-04-30T18:00:32.994656",
     "exception": false,
     "start_time": "2022-04-30T18:00:32.958748",
     "status": "completed"
    },
    "tags": []
   },
   "source": [
    "The questions below will give you feedback on your work. Run the following cell to set up our feedback system."
   ]
  },
  {
   "cell_type": "code",
   "execution_count": 2,
   "id": "b9df9dc7",
   "metadata": {
    "execution": {
     "iopub.execute_input": "2022-04-30T18:00:33.071670Z",
     "iopub.status.busy": "2022-04-30T18:00:33.071307Z",
     "iopub.status.idle": "2022-04-30T18:00:33.143398Z",
     "shell.execute_reply": "2022-04-30T18:00:33.142158Z"
    },
    "papermill": {
     "duration": 0.114268,
     "end_time": "2022-04-30T18:00:33.146106",
     "exception": false,
     "start_time": "2022-04-30T18:00:33.031838",
     "status": "completed"
    },
    "tags": []
   },
   "outputs": [
    {
     "name": "stdout",
     "output_type": "stream",
     "text": [
      "Setup Complete\n"
     ]
    }
   ],
   "source": [
    "# Set up code checking\n",
    "import os\n",
    "if not os.path.exists(\"../input/candy.csv\"):\n",
    "    os.symlink(\"../input/data-for-datavis/candy.csv\", \"../input/candy.csv\") \n",
    "from learntools.core import binder\n",
    "binder.bind(globals())\n",
    "from learntools.data_viz_to_coder.ex4 import *\n",
    "print(\"Setup Complete\")"
   ]
  },
  {
   "cell_type": "markdown",
   "id": "bfc99a56",
   "metadata": {
    "papermill": {
     "duration": 0.038412,
     "end_time": "2022-04-30T18:00:33.221257",
     "exception": false,
     "start_time": "2022-04-30T18:00:33.182845",
     "status": "completed"
    },
    "tags": []
   },
   "source": [
    "## Step 1: Load the Data\n",
    "\n",
    "Read the candy data file into `candy_data`.  Use the `\"id\"` column to label the rows."
   ]
  },
  {
   "cell_type": "code",
   "execution_count": 3,
   "id": "33491067",
   "metadata": {
    "execution": {
     "iopub.execute_input": "2022-04-30T18:00:33.297628Z",
     "iopub.status.busy": "2022-04-30T18:00:33.297327Z",
     "iopub.status.idle": "2022-04-30T18:00:33.312669Z",
     "shell.execute_reply": "2022-04-30T18:00:33.311995Z"
    },
    "papermill": {
     "duration": 0.055355,
     "end_time": "2022-04-30T18:00:33.314468",
     "exception": false,
     "start_time": "2022-04-30T18:00:33.259113",
     "status": "completed"
    },
    "tags": []
   },
   "outputs": [
    {
     "data": {
      "application/javascript": [
       "parent.postMessage({\"jupyterEvent\": \"custom.exercise_interaction\", \"data\": {\"outcomeType\": 1, \"valueTowardsCompletion\": 0.3333333333333333, \"interactionType\": 1, \"questionType\": 1, \"questionId\": \"1_LoadData\", \"learnToolsVersion\": \"0.3.4\", \"failureMessage\": \"\", \"exceptionClass\": \"\", \"trace\": \"\"}}, \"*\")"
      ],
      "text/plain": [
       "<IPython.core.display.Javascript object>"
      ]
     },
     "metadata": {},
     "output_type": "display_data"
    },
    {
     "data": {
      "text/markdown": [
       "<span style=\"color:#33cc33\">Correct</span>"
      ],
      "text/plain": [
       "Correct"
      ]
     },
     "metadata": {},
     "output_type": "display_data"
    }
   ],
   "source": [
    "# Path of the file to read\n",
    "candy_filepath = \"../input/candy.csv\"\n",
    "\n",
    "# Fill in the line below to read the file into a variable candy_data\n",
    "candy_data = pd.read_csv(candy_filepath, index_col='id')\n",
    "\n",
    "# Run the line below with no changes to check that you've loaded the data correctly\n",
    "step_1.check()"
   ]
  },
  {
   "cell_type": "code",
   "execution_count": 4,
   "id": "8f044339",
   "metadata": {
    "execution": {
     "iopub.execute_input": "2022-04-30T18:00:33.393290Z",
     "iopub.status.busy": "2022-04-30T18:00:33.392740Z",
     "iopub.status.idle": "2022-04-30T18:00:33.395954Z",
     "shell.execute_reply": "2022-04-30T18:00:33.395289Z"
    },
    "papermill": {
     "duration": 0.046191,
     "end_time": "2022-04-30T18:00:33.398118",
     "exception": false,
     "start_time": "2022-04-30T18:00:33.351927",
     "status": "completed"
    },
    "tags": []
   },
   "outputs": [],
   "source": [
    "# Lines below will give you a hint or solution code\n",
    "#step_1.hint()\n",
    "#step_1.solution()"
   ]
  },
  {
   "cell_type": "markdown",
   "id": "592cbf3b",
   "metadata": {
    "papermill": {
     "duration": 0.037006,
     "end_time": "2022-04-30T18:00:33.473948",
     "exception": false,
     "start_time": "2022-04-30T18:00:33.436942",
     "status": "completed"
    },
    "tags": []
   },
   "source": [
    "## Step 2: Review the data\n",
    "\n",
    "Use a Python command to print the first five rows of the data."
   ]
  },
  {
   "cell_type": "code",
   "execution_count": 5,
   "id": "d58ac071",
   "metadata": {
    "execution": {
     "iopub.execute_input": "2022-04-30T18:00:33.548481Z",
     "iopub.status.busy": "2022-04-30T18:00:33.547900Z",
     "iopub.status.idle": "2022-04-30T18:00:33.569296Z",
     "shell.execute_reply": "2022-04-30T18:00:33.568652Z"
    },
    "papermill": {
     "duration": 0.060063,
     "end_time": "2022-04-30T18:00:33.571254",
     "exception": false,
     "start_time": "2022-04-30T18:00:33.511191",
     "status": "completed"
    },
    "tags": []
   },
   "outputs": [
    {
     "data": {
      "text/html": [
       "<div>\n",
       "<style scoped>\n",
       "    .dataframe tbody tr th:only-of-type {\n",
       "        vertical-align: middle;\n",
       "    }\n",
       "\n",
       "    .dataframe tbody tr th {\n",
       "        vertical-align: top;\n",
       "    }\n",
       "\n",
       "    .dataframe thead th {\n",
       "        text-align: right;\n",
       "    }\n",
       "</style>\n",
       "<table border=\"1\" class=\"dataframe\">\n",
       "  <thead>\n",
       "    <tr style=\"text-align: right;\">\n",
       "      <th></th>\n",
       "      <th>competitorname</th>\n",
       "      <th>chocolate</th>\n",
       "      <th>fruity</th>\n",
       "      <th>caramel</th>\n",
       "      <th>peanutyalmondy</th>\n",
       "      <th>nougat</th>\n",
       "      <th>crispedricewafer</th>\n",
       "      <th>hard</th>\n",
       "      <th>bar</th>\n",
       "      <th>pluribus</th>\n",
       "      <th>sugarpercent</th>\n",
       "      <th>pricepercent</th>\n",
       "      <th>winpercent</th>\n",
       "    </tr>\n",
       "    <tr>\n",
       "      <th>id</th>\n",
       "      <th></th>\n",
       "      <th></th>\n",
       "      <th></th>\n",
       "      <th></th>\n",
       "      <th></th>\n",
       "      <th></th>\n",
       "      <th></th>\n",
       "      <th></th>\n",
       "      <th></th>\n",
       "      <th></th>\n",
       "      <th></th>\n",
       "      <th></th>\n",
       "      <th></th>\n",
       "    </tr>\n",
       "  </thead>\n",
       "  <tbody>\n",
       "    <tr>\n",
       "      <th>0</th>\n",
       "      <td>100 Grand</td>\n",
       "      <td>Yes</td>\n",
       "      <td>No</td>\n",
       "      <td>Yes</td>\n",
       "      <td>No</td>\n",
       "      <td>No</td>\n",
       "      <td>Yes</td>\n",
       "      <td>No</td>\n",
       "      <td>Yes</td>\n",
       "      <td>No</td>\n",
       "      <td>0.732</td>\n",
       "      <td>0.860</td>\n",
       "      <td>66.971725</td>\n",
       "    </tr>\n",
       "    <tr>\n",
       "      <th>1</th>\n",
       "      <td>3 Musketeers</td>\n",
       "      <td>Yes</td>\n",
       "      <td>No</td>\n",
       "      <td>No</td>\n",
       "      <td>No</td>\n",
       "      <td>Yes</td>\n",
       "      <td>No</td>\n",
       "      <td>No</td>\n",
       "      <td>Yes</td>\n",
       "      <td>No</td>\n",
       "      <td>0.604</td>\n",
       "      <td>0.511</td>\n",
       "      <td>67.602936</td>\n",
       "    </tr>\n",
       "    <tr>\n",
       "      <th>2</th>\n",
       "      <td>Air Heads</td>\n",
       "      <td>No</td>\n",
       "      <td>Yes</td>\n",
       "      <td>No</td>\n",
       "      <td>No</td>\n",
       "      <td>No</td>\n",
       "      <td>No</td>\n",
       "      <td>No</td>\n",
       "      <td>No</td>\n",
       "      <td>No</td>\n",
       "      <td>0.906</td>\n",
       "      <td>0.511</td>\n",
       "      <td>52.341465</td>\n",
       "    </tr>\n",
       "    <tr>\n",
       "      <th>3</th>\n",
       "      <td>Almond Joy</td>\n",
       "      <td>Yes</td>\n",
       "      <td>No</td>\n",
       "      <td>No</td>\n",
       "      <td>Yes</td>\n",
       "      <td>No</td>\n",
       "      <td>No</td>\n",
       "      <td>No</td>\n",
       "      <td>Yes</td>\n",
       "      <td>No</td>\n",
       "      <td>0.465</td>\n",
       "      <td>0.767</td>\n",
       "      <td>50.347546</td>\n",
       "    </tr>\n",
       "    <tr>\n",
       "      <th>4</th>\n",
       "      <td>Baby Ruth</td>\n",
       "      <td>Yes</td>\n",
       "      <td>No</td>\n",
       "      <td>Yes</td>\n",
       "      <td>Yes</td>\n",
       "      <td>Yes</td>\n",
       "      <td>No</td>\n",
       "      <td>No</td>\n",
       "      <td>Yes</td>\n",
       "      <td>No</td>\n",
       "      <td>0.604</td>\n",
       "      <td>0.767</td>\n",
       "      <td>56.914547</td>\n",
       "    </tr>\n",
       "  </tbody>\n",
       "</table>\n",
       "</div>"
      ],
      "text/plain": [
       "   competitorname chocolate fruity caramel peanutyalmondy nougat  \\\n",
       "id                                                                 \n",
       "0       100 Grand       Yes     No     Yes             No     No   \n",
       "1    3 Musketeers       Yes     No      No             No    Yes   \n",
       "2       Air Heads        No    Yes      No             No     No   \n",
       "3      Almond Joy       Yes     No      No            Yes     No   \n",
       "4       Baby Ruth       Yes     No     Yes            Yes    Yes   \n",
       "\n",
       "   crispedricewafer hard  bar pluribus  sugarpercent  pricepercent  winpercent  \n",
       "id                                                                              \n",
       "0               Yes   No  Yes       No         0.732         0.860   66.971725  \n",
       "1                No   No  Yes       No         0.604         0.511   67.602936  \n",
       "2                No   No   No       No         0.906         0.511   52.341465  \n",
       "3                No   No  Yes       No         0.465         0.767   50.347546  \n",
       "4                No   No  Yes       No         0.604         0.767   56.914547  "
      ]
     },
     "execution_count": 5,
     "metadata": {},
     "output_type": "execute_result"
    }
   ],
   "source": [
    "# Print the first five rows of the data\n",
    "candy_data.head(5) # Your code here"
   ]
  },
  {
   "cell_type": "markdown",
   "id": "ae29be53",
   "metadata": {
    "papermill": {
     "duration": 0.036601,
     "end_time": "2022-04-30T18:00:33.644022",
     "exception": false,
     "start_time": "2022-04-30T18:00:33.607421",
     "status": "completed"
    },
    "tags": []
   },
   "source": [
    "The dataset contains 83 rows, where each corresponds to a different candy bar.  There are 13 columns:\n",
    "- `'competitorname'` contains the name of the candy bar. \n",
    "- the next **9** columns (from `'chocolate'` to `'pluribus'`) describe the candy.  For instance, rows with chocolate candies have `\"Yes\"` in the `'chocolate'` column (and candies without chocolate have `\"No\"` in the same column).\n",
    "- `'sugarpercent'` provides some indication of the amount of sugar, where higher values signify higher sugar content.\n",
    "- `'pricepercent'` shows the price per unit, relative to the other candies in the dataset.\n",
    "- `'winpercent'` is calculated from the survey results; higher values indicate that the candy was more popular with survey respondents.\n",
    "\n",
    "Use the first five rows of the data to answer the questions below."
   ]
  },
  {
   "cell_type": "code",
   "execution_count": 6,
   "id": "53c4b7ca",
   "metadata": {
    "execution": {
     "iopub.execute_input": "2022-04-30T18:00:33.723071Z",
     "iopub.status.busy": "2022-04-30T18:00:33.722126Z",
     "iopub.status.idle": "2022-04-30T18:00:33.729451Z",
     "shell.execute_reply": "2022-04-30T18:00:33.728623Z"
    },
    "papermill": {
     "duration": 0.048583,
     "end_time": "2022-04-30T18:00:33.731493",
     "exception": false,
     "start_time": "2022-04-30T18:00:33.682910",
     "status": "completed"
    },
    "tags": []
   },
   "outputs": [
    {
     "data": {
      "application/javascript": [
       "parent.postMessage({\"jupyterEvent\": \"custom.exercise_interaction\", \"data\": {\"outcomeType\": 1, \"valueTowardsCompletion\": 0.3333333333333333, \"interactionType\": 1, \"questionType\": 1, \"questionId\": \"2_ReviewData\", \"learnToolsVersion\": \"0.3.4\", \"failureMessage\": \"\", \"exceptionClass\": \"\", \"trace\": \"\"}}, \"*\")"
      ],
      "text/plain": [
       "<IPython.core.display.Javascript object>"
      ]
     },
     "metadata": {},
     "output_type": "display_data"
    },
    {
     "data": {
      "text/markdown": [
       "<span style=\"color:#33cc33\">Correct</span>"
      ],
      "text/plain": [
       "Correct"
      ]
     },
     "metadata": {},
     "output_type": "display_data"
    }
   ],
   "source": [
    "# Fill in the line below: Which candy was more popular with survey respondents:\n",
    "# '3 Musketeers' or 'Almond Joy'?  (Please enclose your answer in single quotes.)\n",
    "more_popular = '3 Musketeers'\n",
    "\n",
    "# Fill in the line below: Which candy has higher sugar content: 'Air Heads'\n",
    "# or 'Baby Ruth'? (Please enclose your answer in single quotes.)\n",
    "more_sugar = 'Air Heads'\n",
    "\n",
    "# Check your answers\n",
    "step_2.check()"
   ]
  },
  {
   "cell_type": "code",
   "execution_count": 7,
   "id": "9254bc17",
   "metadata": {
    "execution": {
     "iopub.execute_input": "2022-04-30T18:00:33.810021Z",
     "iopub.status.busy": "2022-04-30T18:00:33.809446Z",
     "iopub.status.idle": "2022-04-30T18:00:33.812579Z",
     "shell.execute_reply": "2022-04-30T18:00:33.811919Z"
    },
    "papermill": {
     "duration": 0.044953,
     "end_time": "2022-04-30T18:00:33.814350",
     "exception": false,
     "start_time": "2022-04-30T18:00:33.769397",
     "status": "completed"
    },
    "tags": []
   },
   "outputs": [],
   "source": [
    "# Lines below will give you a hint or solution code\n",
    "#step_2.hint()\n",
    "#step_2.solution()"
   ]
  },
  {
   "cell_type": "markdown",
   "id": "11cb9966",
   "metadata": {
    "papermill": {
     "duration": 0.039783,
     "end_time": "2022-04-30T18:00:33.892660",
     "exception": false,
     "start_time": "2022-04-30T18:00:33.852877",
     "status": "completed"
    },
    "tags": []
   },
   "source": [
    "## Step 3: The role of sugar\n",
    "\n",
    "Do people tend to prefer candies with higher sugar content?  \n",
    "\n",
    "#### Part A\n",
    "\n",
    "Create a scatter plot that shows the relationship between `'sugarpercent'` (on the horizontal x-axis) and `'winpercent'` (on the vertical y-axis).  _Don't add a regression line just yet -- you'll do that in the next step!_"
   ]
  },
  {
   "cell_type": "code",
   "execution_count": 8,
   "id": "c4eedbc1",
   "metadata": {
    "execution": {
     "iopub.execute_input": "2022-04-30T18:00:33.971093Z",
     "iopub.status.busy": "2022-04-30T18:00:33.970560Z",
     "iopub.status.idle": "2022-04-30T18:00:34.247680Z",
     "shell.execute_reply": "2022-04-30T18:00:34.246611Z"
    },
    "papermill": {
     "duration": 0.320382,
     "end_time": "2022-04-30T18:00:34.250409",
     "exception": false,
     "start_time": "2022-04-30T18:00:33.930027",
     "status": "completed"
    },
    "tags": []
   },
   "outputs": [
    {
     "data": {
      "application/javascript": [
       "parent.postMessage({\"jupyterEvent\": \"custom.exercise_interaction\", \"data\": {\"outcomeType\": 1, \"valueTowardsCompletion\": 0.3333333333333333, \"interactionType\": 1, \"questionType\": 2, \"questionId\": \"3.1_PlotBlueScatter\", \"learnToolsVersion\": \"0.3.4\", \"failureMessage\": \"\", \"exceptionClass\": \"\", \"trace\": \"\"}}, \"*\")"
      ],
      "text/plain": [
       "<IPython.core.display.Javascript object>"
      ]
     },
     "metadata": {},
     "output_type": "display_data"
    },
    {
     "data": {
      "text/markdown": [
       "<span style=\"color:#33cc33\">Correct</span>"
      ],
      "text/plain": [
       "Correct"
      ]
     },
     "metadata": {},
     "output_type": "display_data"
    },
    {
     "data": {
      "image/png": "[encoded data removed]",
      "text/plain": [
       "<Figure size 432x288 with 1 Axes>"
      ]
     },
     "metadata": {
      "needs_background": "light"
     },
     "output_type": "display_data"
    }
   ],
   "source": [
    "# Scatter plot showing the relationship between 'sugarpercent' and 'winpercent'\n",
    "plt.figure(figsize=(6,4))\n",
    "plt.title('the relationship between sugarpercent and winpercent')\n",
    "sns.scatterplot(x=candy_data['sugarpercent'],y=candy_data['winpercent'])# Your code here\n",
    "\n",
    "# Check your answer\n",
    "step_3.a.check()"
   ]
  },
  {
   "cell_type": "code",
   "execution_count": 9,
   "id": "38723c96",
   "metadata": {
    "execution": {
     "iopub.execute_input": "2022-04-30T18:00:34.333837Z",
     "iopub.status.busy": "2022-04-30T18:00:34.333503Z",
     "iopub.status.idle": "2022-04-30T18:00:34.337240Z",
     "shell.execute_reply": "2022-04-30T18:00:34.336485Z"
    },
    "papermill": {
     "duration": 0.047214,
     "end_time": "2022-04-30T18:00:34.339124",
     "exception": false,
     "start_time": "2022-04-30T18:00:34.291910",
     "status": "completed"
    },
    "tags": []
   },
   "outputs": [],
   "source": [
    "# Lines below will give you a hint or solution code\n",
    "#step_3.a.hint()\n",
    "#step_3.a.solution_plot()"
   ]
  },
  {
   "cell_type": "markdown",
   "id": "9f4a7db5",
   "metadata": {
    "papermill": {
     "duration": 0.042462,
     "end_time": "2022-04-30T18:00:34.422017",
     "exception": false,
     "start_time": "2022-04-30T18:00:34.379555",
     "status": "completed"
    },
    "tags": []
   },
   "source": [
    "#### Part B\n",
    "\n",
    "Does the scatter plot show a **strong** correlation between the two variables?  If so, are candies with more sugar relatively more or less popular with the survey respondents?"
   ]
  },
  {
   "cell_type": "code",
   "execution_count": 10,
   "id": "8f784ea4",
   "metadata": {
    "execution": {
     "iopub.execute_input": "2022-04-30T18:00:34.503858Z",
     "iopub.status.busy": "2022-04-30T18:00:34.502869Z",
     "iopub.status.idle": "2022-04-30T18:00:34.507667Z",
     "shell.execute_reply": "2022-04-30T18:00:34.506958Z"
    },
    "papermill": {
     "duration": 0.047926,
     "end_time": "2022-04-30T18:00:34.509718",
     "exception": false,
     "start_time": "2022-04-30T18:00:34.461792",
     "status": "completed"
    },
    "tags": []
   },
   "outputs": [],
   "source": [
    "#step_3.b.hint()"
   ]
  },
  {
   "cell_type": "code",
   "execution_count": 11,
   "id": "ae6fe9b7",
   "metadata": {
    "execution": {
     "iopub.execute_input": "2022-04-30T18:00:34.594156Z",
     "iopub.status.busy": "2022-04-30T18:00:34.593609Z",
     "iopub.status.idle": "2022-04-30T18:00:34.601241Z",
     "shell.execute_reply": "2022-04-30T18:00:34.600589Z"
    },
    "papermill": {
     "duration": 0.052979,
     "end_time": "2022-04-30T18:00:34.603252",
     "exception": false,
     "start_time": "2022-04-30T18:00:34.550273",
     "status": "completed"
    },
    "tags": []
   },
   "outputs": [
    {
     "data": {
      "application/javascript": [
       "parent.postMessage({\"jupyterEvent\": \"custom.exercise_interaction\", \"data\": {\"interactionType\": 3, \"questionType\": 4, \"questionId\": \"3.2_ThinkBlueScatter\", \"learnToolsVersion\": \"0.3.4\", \"valueTowardsCompletion\": 0.0, \"failureMessage\": \"\", \"exceptionClass\": \"\", \"trace\": \"\", \"outcomeType\": 4}}, \"*\")"
      ],
      "text/plain": [
       "<IPython.core.display.Javascript object>"
      ]
     },
     "metadata": {},
     "output_type": "display_data"
    },
    {
     "data": {
      "text/markdown": [
       "<span style=\"color:#33cc99\">Solution:</span> The scatter plot does not show a strong correlation between the two variables. Since there is no clear relationship between the two variables, this tells us that sugar content does not play a strong role in candy popularity."
      ],
      "text/plain": [
       "Solution: The scatter plot does not show a strong correlation between the two variables. Since there is no clear relationship between the two variables, this tells us that sugar content does not play a strong role in candy popularity."
      ]
     },
     "metadata": {},
     "output_type": "display_data"
    }
   ],
   "source": [
    "# Check your answer (Run this code cell to receive credit!)\n",
    "step_3.b.solution()"
   ]
  },
  {
   "cell_type": "markdown",
   "id": "afed5a5c",
   "metadata": {
    "papermill": {
     "duration": 0.040923,
     "end_time": "2022-04-30T18:00:34.685142",
     "exception": false,
     "start_time": "2022-04-30T18:00:34.644219",
     "status": "completed"
    },
    "tags": []
   },
   "source": [
    "## Step 4: Take a closer look\n",
    "\n",
    "#### Part A\n",
    "\n",
    "Create the same scatter plot you created in **Step 3**, but now with a regression line!"
   ]
  },
  {
   "cell_type": "code",
   "execution_count": 12,
   "id": "88c900a9",
   "metadata": {
    "execution": {
     "iopub.execute_input": "2022-04-30T18:00:34.773762Z",
     "iopub.status.busy": "2022-04-30T18:00:34.773234Z",
     "iopub.status.idle": "2022-04-30T18:00:35.107067Z",
     "shell.execute_reply": "2022-04-30T18:00:35.106319Z"
    },
    "papermill": {
     "duration": 0.380885,
     "end_time": "2022-04-30T18:00:35.109161",
     "exception": false,
     "start_time": "2022-04-30T18:00:34.728276",
     "status": "completed"
    },
    "tags": []
   },
   "outputs": [
    {
     "data": {
      "application/javascript": [
       "parent.postMessage({\"jupyterEvent\": \"custom.exercise_interaction\", \"data\": {\"outcomeType\": 1, \"valueTowardsCompletion\": 0.3333333333333333, \"interactionType\": 1, \"questionType\": 2, \"questionId\": \"4.1_PlotBlueReg\", \"learnToolsVersion\": \"0.3.4\", \"failureMessage\": \"\", \"exceptionClass\": \"\", \"trace\": \"\"}}, \"*\")"
      ],
      "text/plain": [
       "<IPython.core.display.Javascript object>"
      ]
     },
     "metadata": {},
     "output_type": "display_data"
    },
    {
     "data": {
      "text/markdown": [
       "<span style=\"color:#33cc33\">Correct</span>"
      ],
      "text/plain": [
       "Correct"
      ]
     },
     "metadata": {},
     "output_type": "display_data"
    },
    {
     "data": {
      "image/png": "[encoded data removed]",
      "text/plain": [
       "<Figure size 432x288 with 1 Axes>"
      ]
     },
     "metadata": {
      "needs_background": "light"
     },
     "output_type": "display_data"
    }
   ],
   "source": [
    "# Scatter plot w/ regression line showing the relationship between 'sugarpercent' and 'winpercent'\n",
    "sns.regplot(x=candy_data['sugarpercent'],y=candy_data['winpercent']) # Your code here\n",
    "\n",
    "# Check your answer\n",
    "step_4.a.check()"
   ]
  },
  {
   "cell_type": "code",
   "execution_count": 13,
   "id": "dd9d499f",
   "metadata": {
    "execution": {
     "iopub.execute_input": "2022-04-30T18:00:35.198621Z",
     "iopub.status.busy": "2022-04-30T18:00:35.198028Z",
     "iopub.status.idle": "2022-04-30T18:00:35.201812Z",
     "shell.execute_reply": "2022-04-30T18:00:35.201131Z"
    },
    "papermill": {
     "duration": 0.051343,
     "end_time": "2022-04-30T18:00:35.203890",
     "exception": false,
     "start_time": "2022-04-30T18:00:35.152547",
     "status": "completed"
    },
    "tags": []
   },
   "outputs": [],
   "source": [
    "# Lines below will give you a hint or solution code\n",
    "#step_4.a.hint()\n",
    "#step_4.a.solution_plot()"
   ]
  },
  {
   "cell_type": "markdown",
   "id": "02966556",
   "metadata": {
    "papermill": {
     "duration": 0.043988,
     "end_time": "2022-04-30T18:00:35.291993",
     "exception": false,
     "start_time": "2022-04-30T18:00:35.248005",
     "status": "completed"
    },
    "tags": []
   },
   "source": [
    "#### Part B\n",
    "\n",
    "According to the plot above, is there a **slight** correlation between `'winpercent'` and `'sugarpercent'`?  What does this tell you about the candy that people tend to prefer?"
   ]
  },
  {
   "cell_type": "code",
   "execution_count": 14,
   "id": "c3e1096b",
   "metadata": {
    "execution": {
     "iopub.execute_input": "2022-04-30T18:00:35.381619Z",
     "iopub.status.busy": "2022-04-30T18:00:35.381032Z",
     "iopub.status.idle": "2022-04-30T18:00:35.385294Z",
     "shell.execute_reply": "2022-04-30T18:00:35.384604Z"
    },
    "papermill": {
     "duration": 0.052082,
     "end_time": "2022-04-30T18:00:35.387723",
     "exception": false,
     "start_time": "2022-04-30T18:00:35.335641",
     "status": "completed"
    },
    "tags": []
   },
   "outputs": [],
   "source": [
    "#step_4.b.hint()"
   ]
  },
  {
   "cell_type": "code",
   "execution_count": 15,
   "id": "5c21eb4e",
   "metadata": {
    "execution": {
     "iopub.execute_input": "2022-04-30T18:00:35.480223Z",
     "iopub.status.busy": "2022-04-30T18:00:35.479656Z",
     "iopub.status.idle": "2022-04-30T18:00:35.488436Z",
     "shell.execute_reply": "2022-04-30T18:00:35.487593Z"
    },
    "papermill": {
     "duration": 0.056883,
     "end_time": "2022-04-30T18:00:35.490705",
     "exception": false,
     "start_time": "2022-04-30T18:00:35.433822",
     "status": "completed"
    },
    "tags": []
   },
   "outputs": [
    {
     "data": {
      "application/javascript": [
       "parent.postMessage({\"jupyterEvent\": \"custom.exercise_interaction\", \"data\": {\"interactionType\": 3, \"questionType\": 4, \"questionId\": \"4.2_ThinkBlueReg\", \"learnToolsVersion\": \"0.3.4\", \"valueTowardsCompletion\": 0.0, \"failureMessage\": \"\", \"exceptionClass\": \"\", \"trace\": \"\", \"outcomeType\": 4}}, \"*\")"
      ],
      "text/plain": [
       "<IPython.core.display.Javascript object>"
      ]
     },
     "metadata": {},
     "output_type": "display_data"
    },
    {
     "data": {
      "text/markdown": [
       "<span style=\"color:#33cc99\">Solution:</span> Since the regression line has a slightly positive slope, this tells us that there is a slightly positive correlation between `'winpercent'` and `'sugarpercent'`. Thus, people have a slight preference for candies containing relatively more sugar."
      ],
      "text/plain": [
       "Solution: Since the regression line has a slightly positive slope, this tells us that there is a slightly positive correlation between `'winpercent'` and `'sugarpercent'`. Thus, people have a slight preference for candies containing relatively more sugar."
      ]
     },
     "metadata": {},
     "output_type": "display_data"
    }
   ],
   "source": [
    "# Check your answer (Run this code cell to receive credit!)\n",
    "step_4.b.solution()"
   ]
  },
  {
   "cell_type": "markdown",
   "id": "795f6314",
   "metadata": {
    "papermill": {
     "duration": 0.044878,
     "end_time": "2022-04-30T18:00:35.582169",
     "exception": false,
     "start_time": "2022-04-30T18:00:35.537291",
     "status": "completed"
    },
    "tags": []
   },
   "source": [
    "## Step 5: Chocolate!\n",
    "\n",
    "In the code cell below, create a scatter plot to show the relationship between `'pricepercent'` (on the horizontal x-axis) and `'winpercent'` (on the vertical y-axis). Use the `'chocolate'` column to color-code the points.  _Don't add any regression lines just yet -- you'll do that in the next step!_"
   ]
  },
  {
   "cell_type": "code",
   "execution_count": 16,
   "id": "d9e7a520",
   "metadata": {
    "execution": {
     "iopub.execute_input": "2022-04-30T18:00:35.676005Z",
     "iopub.status.busy": "2022-04-30T18:00:35.675456Z",
     "iopub.status.idle": "2022-04-30T18:00:35.994818Z",
     "shell.execute_reply": "2022-04-30T18:00:35.994180Z"
    },
    "papermill": {
     "duration": 0.368832,
     "end_time": "2022-04-30T18:00:35.997157",
     "exception": false,
     "start_time": "2022-04-30T18:00:35.628325",
     "status": "completed"
    },
    "tags": []
   },
   "outputs": [
    {
     "data": {
      "application/javascript": [
       "parent.postMessage({\"jupyterEvent\": \"custom.exercise_interaction\", \"data\": {\"outcomeType\": 1, \"valueTowardsCompletion\": 0.3333333333333333, \"interactionType\": 1, \"questionType\": 2, \"questionId\": \"5_ColorScatter\", \"learnToolsVersion\": \"0.3.4\", \"failureMessage\": \"\", \"exceptionClass\": \"\", \"trace\": \"\"}}, \"*\")"
      ],
      "text/plain": [
       "<IPython.core.display.Javascript object>"
      ]
     },
     "metadata": {},
     "output_type": "display_data"
    },
    {
     "data": {
      "text/markdown": [
       "<span style=\"color:#33cc33\">Correct</span>"
      ],
      "text/plain": [
       "Correct"
      ]
     },
     "metadata": {},
     "output_type": "display_data"
    },
    {
     "data": {
      "image/png": "[encoded data removed]",
      "text/plain": [
       "<Figure size 432x288 with 1 Axes>"
      ]
     },
     "metadata": {
      "needs_background": "light"
     },
     "output_type": "display_data"
    }
   ],
   "source": [
    "# Scatter plot showing the relationship between 'pricepercent', 'winpercent', and 'chocolate'\n",
    "plt.figure(figsize=(6,4))\n",
    "plt.title('the relationship between pricepercent and chocolate and chocolate')\n",
    "sns.scatterplot(x=candy_data['pricepercent'],y=candy_data['winpercent'], hue=candy_data['chocolate']) # Your code here\n",
    "\n",
    "# Check your answer\n",
    "step_5.check()"
   ]
  },
  {
   "cell_type": "code",
   "execution_count": 17,
   "id": "34a9fc5a",
   "metadata": {
    "execution": {
     "iopub.execute_input": "2022-04-30T18:00:36.098600Z",
     "iopub.status.busy": "2022-04-30T18:00:36.098012Z",
     "iopub.status.idle": "2022-04-30T18:00:36.101268Z",
     "shell.execute_reply": "2022-04-30T18:00:36.100622Z"
    },
    "papermill": {
     "duration": 0.05696,
     "end_time": "2022-04-30T18:00:36.103112",
     "exception": false,
     "start_time": "2022-04-30T18:00:36.046152",
     "status": "completed"
    },
    "tags": []
   },
   "outputs": [],
   "source": [
    "# Lines below will give you a hint or solution code\n",
    "#step_5.hint()\n",
    "#step_5.solution_plot()"
   ]
  },
  {
   "cell_type": "markdown",
   "id": "c0dd6b52",
   "metadata": {
    "papermill": {
     "duration": 0.048818,
     "end_time": "2022-04-30T18:00:36.199974",
     "exception": false,
     "start_time": "2022-04-30T18:00:36.151156",
     "status": "completed"
    },
    "tags": []
   },
   "source": [
    "Can you see any interesting patterns in the scatter plot?  We'll investigate this plot further  by adding regression lines in the next step!\n",
    "\n",
    "## Step 6: Investigate chocolate\n",
    "\n",
    "#### Part A\n",
    "\n",
    "Create the same scatter plot you created in **Step 5**, but now with two regression lines, corresponding to (1) chocolate candies and (2) candies without chocolate."
   ]
  },
  {
   "cell_type": "code",
   "execution_count": 18,
   "id": "4e8aad3f",
   "metadata": {
    "execution": {
     "iopub.execute_input": "2022-04-30T18:00:36.301398Z",
     "iopub.status.busy": "2022-04-30T18:00:36.300822Z",
     "iopub.status.idle": "2022-04-30T18:00:36.979480Z",
     "shell.execute_reply": "2022-04-30T18:00:36.978687Z"
    },
    "papermill": {
     "duration": 0.731354,
     "end_time": "2022-04-30T18:00:36.981783",
     "exception": false,
     "start_time": "2022-04-30T18:00:36.250429",
     "status": "completed"
    },
    "tags": []
   },
   "outputs": [
    {
     "data": {
      "application/javascript": [
       "parent.postMessage({\"jupyterEvent\": \"custom.exercise_interaction\", \"data\": {\"outcomeType\": 1, \"valueTowardsCompletion\": 0.3333333333333333, \"interactionType\": 1, \"questionType\": 2, \"questionId\": \"6.1_PlotColorReg\", \"learnToolsVersion\": \"0.3.4\", \"failureMessage\": \"\", \"exceptionClass\": \"\", \"trace\": \"\"}}, \"*\")"
      ],
      "text/plain": [
       "<IPython.core.display.Javascript object>"
      ]
     },
     "metadata": {},
     "output_type": "display_data"
    },
    {
     "data": {
      "text/markdown": [
       "<span style=\"color:#33cc33\">Correct</span>"
      ],
      "text/plain": [
       "Correct"
      ]
     },
     "metadata": {},
     "output_type": "display_data"
    },
    {
     "data": {
      "image/png": "[encoded data removed]",
      "text/plain": [
       "<Figure size 416.375x360 with 1 Axes>"
      ]
     },
     "metadata": {
      "needs_background": "light"
     },
     "output_type": "display_data"
    }
   ],
   "source": [
    "# Color-coded scatter plot w/ regression lines\n",
    "sns.lmplot(x='pricepercent',y='winpercent',hue='chocolate', data=candy_data) # Your code here\n",
    "\n",
    "# Check your answer\n",
    "step_6.a.check()"
   ]
  },
  {
   "cell_type": "code",
   "execution_count": 19,
   "id": "5071d3bb",
   "metadata": {
    "execution": {
     "iopub.execute_input": "2022-04-30T18:00:37.094229Z",
     "iopub.status.busy": "2022-04-30T18:00:37.093782Z",
     "iopub.status.idle": "2022-04-30T18:00:37.096812Z",
     "shell.execute_reply": "2022-04-30T18:00:37.096139Z"
    },
    "papermill": {
     "duration": 0.063059,
     "end_time": "2022-04-30T18:00:37.098815",
     "exception": false,
     "start_time": "2022-04-30T18:00:37.035756",
     "status": "completed"
    },
    "tags": []
   },
   "outputs": [],
   "source": [
    "# Lines below will give you a hint or solution code\n",
    "#step_6.a.hint()\n",
    "#step_6.a.solution_plot()"
   ]
  },
  {
   "cell_type": "markdown",
   "id": "13af7ee4",
   "metadata": {
    "papermill": {
     "duration": 0.050367,
     "end_time": "2022-04-30T18:00:37.202293",
     "exception": false,
     "start_time": "2022-04-30T18:00:37.151926",
     "status": "completed"
    },
    "tags": []
   },
   "source": [
    "#### Part B\n",
    "\n",
    "Using the regression lines, what conclusions can you draw about the effects of chocolate and price on candy popularity?"
   ]
  },
  {
   "cell_type": "code",
   "execution_count": 20,
   "id": "9c7ff894",
   "metadata": {
    "execution": {
     "iopub.execute_input": "2022-04-30T18:00:37.306588Z",
     "iopub.status.busy": "2022-04-30T18:00:37.306131Z",
     "iopub.status.idle": "2022-04-30T18:00:37.309226Z",
     "shell.execute_reply": "2022-04-30T18:00:37.308542Z"
    },
    "papermill": {
     "duration": 0.058654,
     "end_time": "2022-04-30T18:00:37.311237",
     "exception": false,
     "start_time": "2022-04-30T18:00:37.252583",
     "status": "completed"
    },
    "tags": []
   },
   "outputs": [],
   "source": [
    "#step_6.b.hint()"
   ]
  },
  {
   "cell_type": "code",
   "execution_count": 21,
   "id": "ea01ec2d",
   "metadata": {
    "execution": {
     "iopub.execute_input": "2022-04-30T18:00:37.417606Z",
     "iopub.status.busy": "2022-04-30T18:00:37.417294Z",
     "iopub.status.idle": "2022-04-30T18:00:37.425693Z",
     "shell.execute_reply": "2022-04-30T18:00:37.424810Z"
    },
    "papermill": {
     "duration": 0.065862,
     "end_time": "2022-04-30T18:00:37.427918",
     "exception": false,
     "start_time": "2022-04-30T18:00:37.362056",
     "status": "completed"
    },
    "tags": []
   },
   "outputs": [
    {
     "data": {
      "application/javascript": [
       "parent.postMessage({\"jupyterEvent\": \"custom.exercise_interaction\", \"data\": {\"interactionType\": 3, \"questionType\": 4, \"questionId\": \"6.2_ThinkColorReg\", \"learnToolsVersion\": \"0.3.4\", \"valueTowardsCompletion\": 0.0, \"failureMessage\": \"\", \"exceptionClass\": \"\", \"trace\": \"\", \"outcomeType\": 4}}, \"*\")"
      ],
      "text/plain": [
       "<IPython.core.display.Javascript object>"
      ]
     },
     "metadata": {},
     "output_type": "display_data"
    },
    {
     "data": {
      "text/markdown": [
       "<span style=\"color:#33cc99\">Solution:</span> We'll begin with the regression line for chocolate candies. Since this line has a slightly positive slope, we can say that more expensive chocolate candies tend to be more popular (than relatively cheaper chocolate candies).  Likewise, since the regression line for candies without chocolate has a negative slope, we can say that if candies don't contain chocolate, they tend to be more popular when they are cheaper.  One important note, however, is that the dataset is quite small -- so we shouldn't invest too much trust in these patterns!  To inspire more confidence in the results, we should add more candies to the dataset."
      ],
      "text/plain": [
       "Solution: We'll begin with the regression line for chocolate candies. Since this line has a slightly positive slope, we can say that more expensive chocolate candies tend to be more popular (than relatively cheaper chocolate candies).  Likewise, since the regression line for candies without chocolate has a negative slope, we can say that if candies don't contain chocolate, they tend to be more popular when they are cheaper.  One important note, however, is that the dataset is quite small -- so we shouldn't invest too much trust in these patterns!  To inspire more confidence in the results, we should add more candies to the dataset."
      ]
     },
     "metadata": {},
     "output_type": "display_data"
    }
   ],
   "source": [
    "# Check your answer (Run this code cell to receive credit!)\n",
    "step_6.b.solution()"
   ]
  },
  {
   "cell_type": "markdown",
   "id": "9d38fb10",
   "metadata": {
    "papermill": {
     "duration": 0.053187,
     "end_time": "2022-04-30T18:00:37.532820",
     "exception": false,
     "start_time": "2022-04-30T18:00:37.479633",
     "status": "completed"
    },
    "tags": []
   },
   "source": [
    "## Step 7: Everybody loves chocolate.\n",
    "\n",
    "#### Part A\n",
    "\n",
    "Create a categorical scatter plot to highlight the relationship between `'chocolate'` and `'winpercent'`.  Put `'chocolate'` on the (horizontal) x-axis, and `'winpercent'` on the (vertical) y-axis."
   ]
  },
  {
   "cell_type": "code",
   "execution_count": 22,
   "id": "d4070081",
   "metadata": {
    "execution": {
     "iopub.execute_input": "2022-04-30T18:00:37.641990Z",
     "iopub.status.busy": "2022-04-30T18:00:37.641647Z",
     "iopub.status.idle": "2022-04-30T18:00:37.878404Z",
     "shell.execute_reply": "2022-04-30T18:00:37.877306Z"
    },
    "papermill": {
     "duration": 0.293306,
     "end_time": "2022-04-30T18:00:37.881684",
     "exception": false,
     "start_time": "2022-04-30T18:00:37.588378",
     "status": "completed"
    },
    "tags": []
   },
   "outputs": [
    {
     "data": {
      "application/javascript": [
       "parent.postMessage({\"jupyterEvent\": \"custom.exercise_interaction\", \"data\": {\"outcomeType\": 1, \"valueTowardsCompletion\": 0.3333333333333333, \"interactionType\": 1, \"questionType\": 2, \"questionId\": \"7.1_PlotSwarm\", \"learnToolsVersion\": \"0.3.4\", \"failureMessage\": \"\", \"exceptionClass\": \"\", \"trace\": \"\"}}, \"*\")"
      ],
      "text/plain": [
       "<IPython.core.display.Javascript object>"
      ]
     },
     "metadata": {},
     "output_type": "display_data"
    },
    {
     "data": {
      "text/markdown": [
       "<span style=\"color:#33cc33\">Correct</span>"
      ],
      "text/plain": [
       "Correct"
      ]
     },
     "metadata": {},
     "output_type": "display_data"
    },
    {
     "data": {
      "image/png": "[encoded data removed]",
      "text/plain": [
       "<Figure size 432x288 with 1 Axes>"
      ]
     },
     "metadata": {
      "needs_background": "light"
     },
     "output_type": "display_data"
    }
   ],
   "source": [
    "# Scatter plot showing the relationship between 'chocolate' and 'winpercent'\n",
    "plt.title('the relationship between chocolate and winpercent')\n",
    "sns.swarmplot(x=candy_data['chocolate'],y=candy_data['winpercent']) # Your code here\n",
    "\n",
    "# Check your answer\n",
    "step_7.a.check()"
   ]
  },
  {
   "cell_type": "code",
   "execution_count": 23,
   "id": "753b8604",
   "metadata": {
    "execution": {
     "iopub.execute_input": "2022-04-30T18:00:37.995400Z",
     "iopub.status.busy": "2022-04-30T18:00:37.995084Z",
     "iopub.status.idle": "2022-04-30T18:00:37.999215Z",
     "shell.execute_reply": "2022-04-30T18:00:37.998214Z"
    },
    "papermill": {
     "duration": 0.063474,
     "end_time": "2022-04-30T18:00:38.001333",
     "exception": false,
     "start_time": "2022-04-30T18:00:37.937859",
     "status": "completed"
    },
    "tags": []
   },
   "outputs": [],
   "source": [
    "# Lines below will give you a hint or solution code\n",
    "#step_7.a.hint()\n",
    "#step_7.a.solution_plot()"
   ]
  },
  {
   "cell_type": "markdown",
   "id": "686e3ab0",
   "metadata": {
    "papermill": {
     "duration": 0.057373,
     "end_time": "2022-04-30T18:00:38.114593",
     "exception": false,
     "start_time": "2022-04-30T18:00:38.057220",
     "status": "completed"
    },
    "tags": []
   },
   "source": [
    "#### Part B\n",
    "\n",
    "You decide to dedicate a section of your report to the fact that chocolate candies tend to be more popular than candies without chocolate.  Which plot is more appropriate to tell this story: the plot from **Step 6**, or the plot from **Step 7**?"
   ]
  },
  {
   "cell_type": "code",
   "execution_count": 24,
   "id": "0f93305f",
   "metadata": {
    "execution": {
     "iopub.execute_input": "2022-04-30T18:00:38.230210Z",
     "iopub.status.busy": "2022-04-30T18:00:38.229918Z",
     "iopub.status.idle": "2022-04-30T18:00:38.234109Z",
     "shell.execute_reply": "2022-04-30T18:00:38.233097Z"
    },
    "papermill": {
     "duration": 0.063125,
     "end_time": "2022-04-30T18:00:38.236608",
     "exception": false,
     "start_time": "2022-04-30T18:00:38.173483",
     "status": "completed"
    },
    "tags": []
   },
   "outputs": [],
   "source": [
    "#step_7.b.hint()"
   ]
  },
  {
   "cell_type": "code",
   "execution_count": 25,
   "id": "b7327415",
   "metadata": {
    "execution": {
     "iopub.execute_input": "2022-04-30T18:00:38.356563Z",
     "iopub.status.busy": "2022-04-30T18:00:38.355778Z",
     "iopub.status.idle": "2022-04-30T18:00:38.363992Z",
     "shell.execute_reply": "2022-04-30T18:00:38.363231Z"
    },
    "papermill": {
     "duration": 0.067751,
     "end_time": "2022-04-30T18:00:38.365981",
     "exception": false,
     "start_time": "2022-04-30T18:00:38.298230",
     "status": "completed"
    },
    "tags": []
   },
   "outputs": [
    {
     "data": {
      "application/javascript": [
       "parent.postMessage({\"jupyterEvent\": \"custom.exercise_interaction\", \"data\": {\"interactionType\": 3, \"questionType\": 4, \"questionId\": \"7.2_ThinkSwarm\", \"learnToolsVersion\": \"0.3.4\", \"valueTowardsCompletion\": 0.0, \"failureMessage\": \"\", \"exceptionClass\": \"\", \"trace\": \"\", \"outcomeType\": 4}}, \"*\")"
      ],
      "text/plain": [
       "<IPython.core.display.Javascript object>"
      ]
     },
     "metadata": {},
     "output_type": "display_data"
    },
    {
     "data": {
      "text/markdown": [
       "<span style=\"color:#33cc99\">Solution:</span> In this case, the categorical scatter plot from **Step 7** is the more appropriate plot. While both plots tell the desired story, the plot from **Step 6** conveys far more information that could distract from the main point."
      ],
      "text/plain": [
       "Solution: In this case, the categorical scatter plot from **Step 7** is the more appropriate plot. While both plots tell the desired story, the plot from **Step 6** conveys far more information that could distract from the main point."
      ]
     },
     "metadata": {},
     "output_type": "display_data"
    }
   ],
   "source": [
    "# Check your answer (Run this code cell to receive credit!)\n",
    "step_7.b.solution()"
   ]
  },
  {
   "cell_type": "markdown",
   "id": "aec1ff65",
   "metadata": {
    "papermill": {
     "duration": 0.059179,
     "end_time": "2022-04-30T18:00:38.480554",
     "exception": false,
     "start_time": "2022-04-30T18:00:38.421375",
     "status": "completed"
    },
    "tags": []
   },
   "source": [
    "## Keep going\n",
    "\n",
    "Explore **[histograms and density plots](https://www.kaggle.com/alexisbcook/distributions)**."
   ]
  },
  {
   "cell_type": "markdown",
   "id": "041a5e91",
   "metadata": {
    "papermill": {
     "duration": 0.055822,
     "end_time": "2022-04-30T18:00:38.595498",
     "exception": false,
     "start_time": "2022-04-30T18:00:38.539676",
     "status": "completed"
    },
    "tags": []
   },
   "source": [
    "---\n",
    "\n",
    "\n",
    "\n",
    "\n",
    "*Have questions or comments? Visit the [course discussion forum](https://www.kaggle.com/learn/data-visualization/discussion) to chat with other learners.*"
   ]
  }
 ],
 "metadata": {
  "kernelspec": {
   "display_name": "Python 3",
   "language": "python",
   "name": "python3"
  },
  "language_info": {
   "codemirror_mode": {
    "name": "ipython",
    "version": 3
   },
   "file_extension": ".py",
   "mimetype": "text/x-python",
   "name": "python",
   "nbconvert_exporter": "python",
   "pygments_lexer": "ipython3",
   "version": "3.7.12"
  },
  "papermill": {
   "default_parameters": {},
   "duration": 19.3025,
   "end_time": "2022-04-30T18:00:39.373939",
   "environment_variables": {},
   "exception": null,
   "input_path": "__notebook__.ipynb",
   "output_path": "__notebook__.ipynb",
   "parameters": {},
   "start_time": "2022-04-30T18:00:20.071439",
   "version": "2.3.4"
  }
 },
 "nbformat": 4,
 "nbformat_minor": 5
}
